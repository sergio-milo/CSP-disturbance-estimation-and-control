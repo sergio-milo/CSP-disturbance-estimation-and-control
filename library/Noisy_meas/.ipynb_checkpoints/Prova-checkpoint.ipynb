{
 "cells": [
  {
   "cell_type": "code",
   "execution_count": 8,
   "id": "7808b95b",
   "metadata": {},
   "outputs": [
    {
     "ename": "TypeError",
     "evalue": "model() missing 1 required positional argument: 'u'",
     "output_type": "error",
     "traceback": [
      "\u001b[1;31m---------------------------------------------------------------------------\u001b[0m",
      "\u001b[1;31mTypeError\u001b[0m                                 Traceback (most recent call last)",
      "Cell \u001b[1;32mIn[8], line 20\u001b[0m\n\u001b[0;32m     18\u001b[0m u[\u001b[38;5;241m50\u001b[39m:] \u001b[38;5;241m=\u001b[39m \u001b[38;5;241m2.0\u001b[39m\n\u001b[0;32m     19\u001b[0m \u001b[38;5;66;03m# solve ODE\u001b[39;00m\n\u001b[1;32m---> 20\u001b[0m y \u001b[38;5;241m=\u001b[39m \u001b[43modeint\u001b[49m\u001b[43m(\u001b[49m\u001b[43mmodel\u001b[49m\u001b[43m,\u001b[49m\u001b[43my0\u001b[49m\u001b[43m,\u001b[49m\u001b[43mt\u001b[49m\u001b[43m)\u001b[49m\n\u001b[0;32m     22\u001b[0m \u001b[38;5;66;03m# plot results\u001b[39;00m\n\u001b[0;32m     23\u001b[0m plt\u001b[38;5;241m.\u001b[39mplot(t,y)\n",
      "File \u001b[1;32m~\\anaconda3\\lib\\site-packages\\scipy\\integrate\\_odepack_py.py:242\u001b[0m, in \u001b[0;36modeint\u001b[1;34m(func, y0, t, args, Dfun, col_deriv, full_output, ml, mu, rtol, atol, tcrit, h0, hmax, hmin, ixpr, mxstep, mxhnil, mxordn, mxords, printmessg, tfirst)\u001b[0m\n\u001b[0;32m    240\u001b[0m t \u001b[38;5;241m=\u001b[39m copy(t)\n\u001b[0;32m    241\u001b[0m y0 \u001b[38;5;241m=\u001b[39m copy(y0)\n\u001b[1;32m--> 242\u001b[0m output \u001b[38;5;241m=\u001b[39m \u001b[43m_odepack\u001b[49m\u001b[38;5;241;43m.\u001b[39;49m\u001b[43modeint\u001b[49m\u001b[43m(\u001b[49m\u001b[43mfunc\u001b[49m\u001b[43m,\u001b[49m\u001b[43m \u001b[49m\u001b[43my0\u001b[49m\u001b[43m,\u001b[49m\u001b[43m \u001b[49m\u001b[43mt\u001b[49m\u001b[43m,\u001b[49m\u001b[43m \u001b[49m\u001b[43margs\u001b[49m\u001b[43m,\u001b[49m\u001b[43m \u001b[49m\u001b[43mDfun\u001b[49m\u001b[43m,\u001b[49m\u001b[43m \u001b[49m\u001b[43mcol_deriv\u001b[49m\u001b[43m,\u001b[49m\u001b[43m \u001b[49m\u001b[43mml\u001b[49m\u001b[43m,\u001b[49m\u001b[43m \u001b[49m\u001b[43mmu\u001b[49m\u001b[43m,\u001b[49m\n\u001b[0;32m    243\u001b[0m \u001b[43m                         \u001b[49m\u001b[43mfull_output\u001b[49m\u001b[43m,\u001b[49m\u001b[43m \u001b[49m\u001b[43mrtol\u001b[49m\u001b[43m,\u001b[49m\u001b[43m \u001b[49m\u001b[43matol\u001b[49m\u001b[43m,\u001b[49m\u001b[43m \u001b[49m\u001b[43mtcrit\u001b[49m\u001b[43m,\u001b[49m\u001b[43m \u001b[49m\u001b[43mh0\u001b[49m\u001b[43m,\u001b[49m\u001b[43m \u001b[49m\u001b[43mhmax\u001b[49m\u001b[43m,\u001b[49m\u001b[43m \u001b[49m\u001b[43mhmin\u001b[49m\u001b[43m,\u001b[49m\n\u001b[0;32m    244\u001b[0m \u001b[43m                         \u001b[49m\u001b[43mixpr\u001b[49m\u001b[43m,\u001b[49m\u001b[43m \u001b[49m\u001b[43mmxstep\u001b[49m\u001b[43m,\u001b[49m\u001b[43m \u001b[49m\u001b[43mmxhnil\u001b[49m\u001b[43m,\u001b[49m\u001b[43m \u001b[49m\u001b[43mmxordn\u001b[49m\u001b[43m,\u001b[49m\u001b[43m \u001b[49m\u001b[43mmxords\u001b[49m\u001b[43m,\u001b[49m\n\u001b[0;32m    245\u001b[0m \u001b[43m                         \u001b[49m\u001b[38;5;28;43mint\u001b[39;49m\u001b[43m(\u001b[49m\u001b[38;5;28;43mbool\u001b[39;49m\u001b[43m(\u001b[49m\u001b[43mtfirst\u001b[49m\u001b[43m)\u001b[49m\u001b[43m)\u001b[49m\u001b[43m)\u001b[49m\n\u001b[0;32m    246\u001b[0m \u001b[38;5;28;01mif\u001b[39;00m output[\u001b[38;5;241m-\u001b[39m\u001b[38;5;241m1\u001b[39m] \u001b[38;5;241m<\u001b[39m \u001b[38;5;241m0\u001b[39m:\n\u001b[0;32m    247\u001b[0m     warning_msg \u001b[38;5;241m=\u001b[39m _msgs[output[\u001b[38;5;241m-\u001b[39m\u001b[38;5;241m1\u001b[39m]] \u001b[38;5;241m+\u001b[39m \u001b[38;5;124m\"\u001b[39m\u001b[38;5;124m Run with full_output = 1 to get quantitative information.\u001b[39m\u001b[38;5;124m\"\u001b[39m\n",
      "\u001b[1;31mTypeError\u001b[0m: model() missing 1 required positional argument: 'u'"
     ]
    }
   ],
   "source": [
    "import numpy as np\n",
    "from scipy.integrate import odeint\n",
    "import matplotlib.pyplot as plt\n",
    "\n",
    "# function that returns dy/dt\n",
    "def model(y,t,u):\n",
    "    k = 1\n",
    "    tau=2 \n",
    "    dydt = (-y + u)/tau\n",
    "    return dydt\n",
    "\n",
    "# initial condition\n",
    "y0 = 0\n",
    "n=100\n",
    "# time points\n",
    "t = np.linspace(0,n)\n",
    "u = np.zeros(n)\n",
    "u[50:] = 2.0\n",
    "# solve ODE\n",
    "y = odeint(model,y0,t)\n",
    "\n",
    "# plot results\n",
    "plt.plot(t,y)\n",
    "plt.xlabel('time')\n",
    "plt.ylabel('y(t)')\n",
    "plt.show()\n",
    "\n"
   ]
  },
  {
   "cell_type": "code",
   "execution_count": 1,
   "id": "c6e2a998",
   "metadata": {},
   "outputs": [
    {
     "ename": "SyntaxError",
     "evalue": "invalid syntax (3324921224.py, line 38)",
     "output_type": "error",
     "traceback": [
      "\u001b[1;36m  Cell \u001b[1;32mIn[1], line 38\u001b[1;36m\u001b[0m\n\u001b[1;33m    x[i] = z[1]\u001b[0m\n\u001b[1;37m    ^\u001b[0m\n\u001b[1;31mSyntaxError\u001b[0m\u001b[1;31m:\u001b[0m invalid syntax\n"
     ]
    }
   ],
   "source": [
    "import numpy as np\n",
    "from scipy.integrate import odeint\n",
    "import matplotlib.pyplot as plt\n",
    "\n",
    "# function that returns dz/dt\n",
    "def model(z,t,u):\n",
    "    x = z0\n",
    "    dxdt = (-x + u)/2.0\n",
    "    dzdt = [dxdt]\n",
    "    return dzdt\n",
    "\n",
    "# initial condition\n",
    "z0 = 0\n",
    "\n",
    "# number of time points\n",
    "n = 401\n",
    "\n",
    "# time points\n",
    "t = np.linspace(0,40,n)\n",
    "\n",
    "# step input\n",
    "u = np.zeros(n)\n",
    "# change to 2.0 at time = 5.0\n",
    "u[50:] = 2.0\n",
    "\n",
    "# store solution\n",
    "x = np.empty_like(t)\n",
    "# record initial conditions\n",
    "x[0] = z0\n",
    "\n",
    "# solve ODE\n",
    "for i in range(1,n):\n",
    "    # span for next time step\n",
    "    tspan = [t[i-1],t[i]]\n",
    "    # solve for next step\n",
    "    z = odeint(model,z0,tspan,args=(u[i])\n",
    "    # store solution for plotting\n",
    "    x[i] = z[1]\n",
    "    # next initial condition\n",
    "    z0 = z[1]\n",
    "\n",
    "# plot results\n",
    "plt.plot(t,u,'g:',label='u(t)')\n",
    "plt.plot(t,x,'b-',label='x(t)')\n",
    "plt.ylabel('values')\n",
    "plt.xlabel('time')\n",
    "plt.legend(loc='best')\n",
    "plt.show()"
   ]
  },
  {
   "cell_type": "code",
   "execution_count": null,
   "id": "b860ba1f",
   "metadata": {},
   "outputs": [],
   "source": []
  }
 ],
 "metadata": {
  "kernelspec": {
   "display_name": "Python 3 (ipykernel)",
   "language": "python",
   "name": "python3"
  },
  "language_info": {
   "codemirror_mode": {
    "name": "ipython",
    "version": 3
   },
   "file_extension": ".py",
   "mimetype": "text/x-python",
   "name": "python",
   "nbconvert_exporter": "python",
   "pygments_lexer": "ipython3",
   "version": "3.8.18"
  }
 },
 "nbformat": 4,
 "nbformat_minor": 5
}
